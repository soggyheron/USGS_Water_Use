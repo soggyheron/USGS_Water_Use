{
 "cells": [
  {
   "cell_type": "markdown",
   "metadata": {},
   "source": [
    "# Summarize USGS Water Use Statistics by County"
   ]
  },
  {
   "cell_type": "markdown",
   "metadata": {},
   "source": [
    "### Water Systems Analysis Group at the University of New Hampshire"
   ]
  },
  {
   "cell_type": "markdown",
   "metadata": {},
   "source": [
    "    Copyright 2021, University of New Hampshire\n",
    "    \n",
    "    This program is free software: you can redistribute it and/or modify\n",
    "    it under the terms of the GNU General Public License as published by\n",
    "    the Free Software Foundation, either version 3 of the License, or\n",
    "    (at your option) any later version.\n",
    "\n",
    "    This program is distributed in the hope that it will be useful,\n",
    "    but WITHOUT ANY WARRANTY; without even the implied warranty of\n",
    "    MERCHANTABILITY or FITNESS FOR A PARTICULAR PURPOSE.  See the\n",
    "    GNU General Public License for more details.\n",
    "\n",
    "    You should have received a copy of the GNU General Public License\n",
    "    along with this program.  If not, see <https://www.gnu.org/licenses/>."
   ]
  },
  {
   "cell_type": "markdown",
   "metadata": {},
   "source": [
    "The United States Geological Survey (USGS) publishes water use statistics every five years for each county in the United States and territories.  The data are provided in a variety of formats (tab delimited text, excel spreadsheets) with corresponding metadata provided in accompanying tables or hosted as HTML on their websites.  Making estimates of how water-use is changing within the United States is complicated for a number of reasons.\n",
    "\n",
    "1. The definitions of water-use categories and record-keeping has changed over-time.\n",
    "2. The water use statistics themselves are accumulated through agencies and institutions and may exhibit spatial variability resulting purely from differences in reporting practices and procedures.\n",
    "3. The variety of formats, and field names make introspection challenging.\n",
    "\n",
    "This notebook attempts to reduce the burden from the third challenge, with a specific set of documented assumptions to address the first challenge in order to create a continuous record of water use records.  It collates county level data from 1985 through 2015 (and plans to be updated if necessary with future data releases).  The final summary of data is saved to disk as a comma-seperated-values (csv) file easily readable via a number of utilities.  An example is provided to read the resulting table with Pandas (Python).  Furthermore, derived fields are calculated.  Optional cells near the end of the notebook compile statistics into a GeoJSON file using the fiona library (if available),and display an example field using Shapely and Cartopy libraries.\n",
    "\n",
    "Notes: \n",
    "\n",
    "> Does not include statewide data available prior to 1985. \n",
    "\n",
    "> The utility does not supply the underlying data, nor does it provide (at this time) automatic fetching of the data.  It is considered the user's responsibility to retrieve the datasets (whole datasets, not individual states) and place them in a single folder. \n",
    "\n",
    "The variable `data_source_folder` (aka `fldr`) must be a string to be entered by the user that tells the utility where to find these data.\n",
    "\n",
    "Sources:\n",
    "\n",
    "https://water.usgs.gov/watuse/data/\n",
    "USGS data is in the Public Domain."
   ]
  },
  {
   "cell_type": "markdown",
   "metadata": {},
   "source": [
    "The author provides no warranty regarding the veracity of the underlying data provided to or summarized by the USGS, and is in no way affiliated with the USGS. "
   ]
  },
  {
   "cell_type": "code",
   "execution_count": 1,
   "metadata": {},
   "outputs": [],
   "source": [
    "import numpy as np\n",
    "import pandas as pd\n",
    "from collections import defaultdict,OrderedDict"
   ]
  },
  {
   "cell_type": "code",
   "execution_count": 2,
   "metadata": {},
   "outputs": [],
   "source": [
    "# our data source folder is used globally.  \n",
    "fldr=data_source_folder=\"/mnt/c/Data/data/USGSUSCO/\"\n",
    "output_file_name=fldr+\"USGS_waterUseStatistics_HumanUse_1985_2015.v2.csv\"\n",
    "county_folder=\"/mnt/c/Data/data/cb_2015_us_county_500k/\" # needed if GeoJSON or mapping is implemented\n",
    "county_fname=county_folder+\"cb_2015_us_county_500k.shp\""
   ]
  },
  {
   "cell_type": "code",
   "execution_count": 3,
   "metadata": {},
   "outputs": [],
   "source": [
    "mgd2kmy = 3.78541178e-6 * 365.256"
   ]
  },
  {
   "cell_type": "markdown",
   "metadata": {},
   "source": [
    "###  Water-Use categories of interest\n"
   ]
  },
  {
   "cell_type": "markdown",
   "metadata": {},
   "source": [
    "**Units**\n",
    "\n",
    "*Population*\n",
    "\n",
    "original units = population in thousands persons\n",
    "\n",
    "output units   = population in persons\n",
    "\n",
    "*Supply, Delivery, or Use fluxes*\n",
    "\n",
    "original units = Million gallons per day ($M gal\\ d^{-1}$)\n",
    "\n",
    "output units   = cubic kilometers per year ($km^3 y^{-1}$)\n",
    "\n",
    "**Comments**\n",
    "\n",
    "*DomesticTotalUse*\n",
    "\n",
    "Data for year 2000 is not provided.  We calculate this value by adding the DomesticSelfSupplied usage (provided) plus the product of the PublicSuppliedPopulation (provided) and a per capita PublicSupply rate (estimated).  The per capita PublicSupply rate for 2000 is calculated as the average per capita PublicSupply rate from 1995 and 2005 for each county.\n",
    "\n",
    "*IndustrialTotalUse*\n",
    "\n",
    "Commercial use (provided for 1985 though 1995) is included as IndustrialUse to maintain a consistent record, and follows from the high level disaggregation presented by the USGS [in this table](https://www.usgs.gov/mission-areas/water-resources/science/changes-water-use-categories?qt-science_center_objects=0#qt-science_center_objectsI).  However, Commercial use is most likely a combination of domestic and industrial uses, which is evident by discontinuities in Domestic and Industrial uses for individual counties before and after 1995.  An appropriate disaggregation of Commercial use to both Domestic and Industrial uses on a county by county basis is beyond the scope of this work.\n",
    "\n",
    "Data for years 2000 through 2015 provides only IndustrialSelfSuppliedUse.  To calculate IndustrialTotalUse we add IndustrialSelfSuppliedUse with the difference between PublicSupplyUse and DomesticPublicDeliveries. "
   ]
  },
  {
   "cell_type": "markdown",
   "metadata": {},
   "source": [
    "### Build field names\n",
    "Some fields are not provided by the USGS for given years, but can be back-calculated with other data and the assumptions described above.  \n",
    "\n",
    "Entries of `ifunc` and `ofunc` tell the program how to calculate these missing fields."
   ]
  },
  {
   "cell_type": "code",
   "execution_count": 4,
   "metadata": {},
   "outputs": [],
   "source": [
    "Uses=OrderedDict(Population={2015:'TP-TotPop',2010:'TP-TotPop',2005:'TP-TotPop',2000:'TP-TotPop',1995:'TotalPop',1990:'po-total',1985:'po-total' },\n",
    "          DomesticSelfSupp={2015: 'DO-WFrTo', 2010: 'DO-WFrTo', 2005: 'DO-WFrTo', 2000:\"DO-WFrTo\",1995:'DO-WFrTo',1990:'do-sstot',1985:'do-sstot'},\n",
    "          DomesticSelfPop={2015: 'DO-SSPop', 2010: 'DO-SSPop', 2005: 'DO-SSPop', 2000:\"DO-SSPop\",1995:'DO-SSPop',1990:'do-sspop',1985:'do-sspop'},\n",
    "          DomesticTotalUse={2015:'DO-WDelv',2010:'DO-TOTAL',2005:'DO-TOTAL',\n",
    "                            2000:\"ofunc(DomesticTotal_2000)\",\n",
    "                            1995:'DO-WDelv',1990:'do-total',1985:'do-total'},\n",
    "          DomesticPubDeliv={2015:'DO-PSDel',2010:'DO-PSDel',2005:'DO-PSDel',\n",
    "                            2000:\"ofunc(DomesticPubDeliv_2000)\",\n",
    "                            1995:'DO-PSDel',1990:'do-psdel',1985:'do-psdel'},\n",
    "          PublicSupplyPop={2015: 'PS-TOPop', 2010: 'PS-TOPop', 2005: 'PS-TOPop', 2000:'PS-TOPop',\n",
    "                           1995:'PS-TOPop',1990:'ps-popto',1985:'ps-popto'},\n",
    "          PublicSupplyUse={2015:'PS-Wtotl',2010:'PS-Wtotl',2005:'PS-Wtotl',2000:'PS-WFrTo',\n",
    "                           1995:'PS-WFrTo',1990:'ps-wtofr',1985:'ps-wtofr'},\n",
    "          IndustrialSelfSupp={2015: 'IN-WFrTo',2010:'IN-WFrTo',2005:'IN-WFrTo',2000:'IN-WFrTo',\n",
    "                              1995:'IN-WFrTo',1990:'in-wtofr',1985:'in-wtofr'},\n",
    "          IndustrialTotalUse={2015:\"ofunc(IndustrialTotal)\",\n",
    "                              2010: \"ofunc(IndustrialTotal)\",\n",
    "                              2005: \"ofunc(IndustrialTotal)\",\n",
    "                              2000: \"ofunc(IndustrialTotal_2000)\",\n",
    "                              1995:'ifunc(IN-WDelv,add,CO-WDelv)',1990:'ifunc(in-total,add,co-total)',1985:'ifunc(in-total,add,co-total)'},\n",
    "          IrrigationTotalUse={2015: 'IR-WFrTo',2010: 'IR-WFrTo', 2005: 'IR-WFrTo',2000:'IT-WFrTo',\n",
    "                              1995:'IR-WFrTo',1990:'ir-frtot',1985:'ir-frtot'},\n",
    "          IrrigationSurfaceUse={2015: 'IR-WSWFr', 2010: \"IR-WSWFr\", 2005:\"IR-WSWFr\",2000:\"IT-WSWFr\",1995:\"IR-WSWFr\",1990:\"IR-WSWFr\".lower(),1985:\"IR-WSWFr\".lower()},\n",
    "          IrrigationGroundWUse={2015: 'IR-WGWFr', 2010: \"IR-WGWFr\", 2005: \"IR-WGWFr\",2000:\"IT-WGWFr\",1995:\"IR-WGWFr\",1990:\"IR-WGWFr\".lower(),1985:\"IR-WGWFr\".lower()},\n",
    "          LivestockTotalUse={2015: 'LI-WFrTo', 2010: 'LI-WFrTo', 2005: 'LS-WFrTo',2000:'LS-WFrTo',\n",
    "                             1995:'LS-WFrTo',1990:'ls-total',1985:'ls-total'} )\n",
    "# Lists of fluxes to convert and output\n",
    "volUses=\"DomesticSelfSupp DomesticTotalUse DomesticPubDeliv PublicSupplyUse IndustrialSelfSupp IndustrialTotalUse IrrigationTotalUse LivestockTotalUse IrrigationSurfaceUse IrrigationGroundWUse\".split()\n",
    "popUses=\"Population DomesticSelfPop PublicSupplyPop\".split()"
   ]
  },
  {
   "cell_type": "code",
   "execution_count": 5,
   "metadata": {},
   "outputs": [],
   "source": [
    "### Selection of functions to parse individual year files in common formats.  Each returns a raw pandas dataframe.\n",
    "\n",
    "def read_1985_text(year,uses):\n",
    "    #1985 1990\n",
    "    cols=\"scode area\".split()+[use[year] for use in uses.values() if \"func\" not in use[year]]\n",
    "    \"\"\"for use in uses.values():\n",
    "        if 'ifunc' in use[year]:\n",
    "            for y in use[year].split(','):\n",
    "                if y is not 'add':\n",
    "                    cols.append(y)\"\"\"\n",
    "                    \n",
    "    cols+=[y for use in uses.values() if \"ifunc\" in use[year] for y in use[year].split('(')[1].split(')')[0].split(',') if y !='add']\n",
    "    df = pd.read_csv(fldr+\"us{}co.txt\".format(str(year)[-2:]),sep=\"\\t\",\\\n",
    "                          usecols=cols,\\\n",
    "                          dtype={\"area\":str,\"scode\":str})\n",
    "    df[\"FIPS\"]=df['scode']+df['area']\n",
    "    df[\"FIPS\"]=df[\"FIPS\"].astype(str)    \n",
    "    return df\n",
    "\n",
    "def read_1995_text(year,uses):\n",
    "    #1995\n",
    "    cols=\"StateCode CountyCode\".split()+[use[year] for use in uses.values() if \"func\" not in use[year]]\n",
    "    cols+=[y for use in uses.values() if \"ifunc\" in use[year] for y in use[year].split('(')[1].split(')')[0].split(',') if y !='add']\n",
    "    #print pd.read_csv(fldr+\"us{}co.txt\".format(state,str(year)[-2:]),sep=\"\\t\")\n",
    "    df = pd.read_csv(fldr+\"us{}co.txt\".format(str(year)[-2:]),sep=\"\\t\",\\\n",
    "                          usecols=cols,\\\n",
    "                          dtype={\"CountyCode\":str,\"StateCode\":str})\n",
    "    df[\"FIPS\"]=df['StateCode']+df['CountyCode']\n",
    "    df[\"FIPS\"]=df[\"FIPS\"].astype(str)\n",
    "    return df\n",
    "\n",
    "def read_2000_excel(year,uses):\n",
    "    # Parses water uses for the 200{0}'s\n",
    "    #2000 2005\n",
    "    cols=[\"FIPS\"]+[use[year] for use in uses.values() if \"func\" not in use[year]]\n",
    "    #print pd.read_csv(fldr+\"us{}co.txt\".format(state,str(year)[-2:]),sep=\"\\t\")\n",
    "    df = pd.read_csv(fldr+\"usco{}.txt\".format(year),sep=\"\\t\",\\\n",
    "                          usecols=cols,\\\n",
    "                          dtype={\"FIPS\":str})\n",
    "    fipser=lambda x: \"0\"+x if len(x)== 4 else x\n",
    "    df[\"FIPS\"]=df[\"FIPS\"].astype(str).apply(fipser)\n",
    "    return df\n",
    "    \n",
    "def read_2010(year,uses):\n",
    "    #2010\n",
    "    cols=[\"FIPS\"]+[use[year] for use in uses.values() if \"func\" not in use[year]]\n",
    "    #print pd.read_csv(fldr+\"us{}co.txt\".format(state,str(year)[-2:]),sep=\"\\t\")\n",
    "    df = pd.read_csv(fldr+\"usco{}.dat\".format(year),sep=\"\\t\",\\\n",
    "                          usecols=cols,\\\n",
    "                          dtype={\"FIPS\":str})\n",
    "    df[\"FIPS\"]=df[\"FIPS\"].astype(str)\n",
    "    return df\n",
    "def read_2015(year,uses):\n",
    "    #2015\n",
    "    cols=[\"FIPS\"]+[use[year] for use in uses.values() if \"func\" not in use[year]]\n",
    "    #print pd.read_csv(fldr+\"us{}co.txt\".format(state,str(year)[-2:]),sep=\"\\t\")\n",
    "    df = pd.read_csv(fldr+\"usco{}v2.csv\".format(year),usecols=cols,\\\n",
    "                          dtype={\"FIPS\":str},skiprows=1)\n",
    "    \n",
    "    fipser=lambda x: \"0\"+x if len(x)== 4 else x\n",
    "    df[\"FIPS\"]=df[\"FIPS\"].astype(str).apply(fipser)\n",
    "    return df\n",
    "\n",
    "def rdr(year,uses,vol_uses,pop_uses):\n",
    "    # Processes data for a given year and returns a clean dataframe \n",
    "    if (year < 1985) | (year % 5 != 0):\n",
    "        raise \"No water use data for year {}\".format(year)\n",
    "    if (year >= 1985) & (year < 1994):\n",
    "        df= read_1985_text(year,uses)\n",
    "    if (year == 1995):\n",
    "        df= read_1995_text(year,uses)\n",
    "    if (year in [2000,2005]):\n",
    "        df= read_2000_excel(year,uses)\n",
    "    if (year == 2010):\n",
    "        df=read_2010(year,uses)\n",
    "    if (year == 2015):\n",
    "        df= read_2015(year,uses)   \n",
    "        #1985 1990\n",
    "    # Conform each returned dataframe to a common format\n",
    "    renamer=dict([(use[year],key) for key,use in uses.items() if \"func\" not in use[year]])\n",
    "    df = df.rename(columns=renamer)\n",
    "    # Make necessary calculations from multiple data fields when missing\n",
    "    for name,use in uses.items():\n",
    "        if 'ifunc' in use[year]:\n",
    "            (first,func,second)=use[year].split('(')[1].split(')')[0].split(',')\n",
    "            assert func == 'add',\"Inner field calculation calls for unsupported operator\"\n",
    "            df[name]=df[first].add(df[second]) # fortunately all functions are additive\n",
    "    df[\"FIPS\"]=df['FIPS'].astype(str)\n",
    "    df.set_index(\"FIPS\",inplace=True)\n",
    "    # Unit conversions\n",
    "    df[list( set(df.columns) & set(vol_uses) )] *= mgd2kmy\n",
    "    df[list( set(df.columns) & set(pop_uses) )] *= 1000 # population\n",
    "    # Remove unused columns\n",
    "    addCols=list( set(uses.keys()) - set(df.columns))    \n",
    "    for col in addCols:\n",
    "        df[col]=pd.Series(dtype=float)\n",
    "    for col in df.columns:\n",
    "        if col.endswith('_A'):\n",
    "            df[col]=df[col[:-2]+'_B']\n",
    "    return df.loc[:,uses.keys()]\n",
    "\n",
    "# Define outer function calculations\n",
    "def DomPubDeliv2000(df,year=2000):\n",
    "    # In 2000 We nned to use data from 1995 and 2005 to estimate\n",
    "    x1=df.loc[(slice(None),year),'PublicSupplyPop']\n",
    "    x2=df.loc[(slice(None),[1995,2005]),'PublicSupplyUse'].sum(level=0)\n",
    "    x3=df.loc[(slice(None),[1995,2005]),'PublicSupplyPop'].sum(level=0)\n",
    "    x=x1*x2/x3\n",
    "    return x\n",
    "\n",
    "def apply_ofunc(df,fun_nm,year):\n",
    "    funcs={'ofunc(DomesticTotal_2000)':df.loc[(slice(None),year),'DomesticSelfSupp']+DomPubDeliv2000(df),\n",
    "           'ofunc(DomesticPubDeliv_2000)':DomPubDeliv2000(df),\n",
    "           'ofunc(IndustrialTotal)':(df.loc[(slice(None),year),'PublicSupplyUse']- df.loc[(slice(None),year),'DomesticPubDeliv']).clip(lower=0.0)\\\n",
    "           +df.loc[(slice(None),year),'IndustrialSelfSupp'],\n",
    "           'ofunc(IndustrialTotal_2000)':(df.loc[(slice(None),year),'PublicSupplyUse']- DomPubDeliv2000(df)).clip(lower=0)+df.loc[(slice(None),year),'IndustrialSelfSupp']}\n",
    "    return funcs[fun_nm]\n",
    "\n",
    "def calc_dependencies(df,uses,ys):\n",
    "    for nm,use in uses.items():\n",
    "        for y in ys:\n",
    "            if 'ofunc' in use[y]:\n",
    "                df.loc[(slice(None),y),nm]=apply_ofunc(df,use[y],y)\n",
    "    return df"
   ]
  },
  {
   "cell_type": "markdown",
   "metadata": {},
   "source": [
    "#### Perform aggregation of Water Use Statistics"
   ]
  },
  {
   "cell_type": "code",
   "execution_count": 6,
   "metadata": {},
   "outputs": [
    {
     "name": "stdout",
     "output_type": "stream",
     "text": [
      "1985\n",
      "1990\n",
      "1995\n",
      "2000\n",
      "2005\n",
      "2010\n",
      "2015\n"
     ]
    }
   ],
   "source": [
    "dfs={}\n",
    "years=range(1985,2016,5)\n",
    "for y in years:\n",
    "    print(y)\n",
    "    dfs[y]=rdr(y,Uses,volUses,popUses)\n",
    "df=pd.concat(dfs,names=\"Year FIPS\".split()).swaplevel(0,1).sort_index()\n",
    "df=df.drop('nan',level=0)\n",
    "df[\"Population\"]=df[\"Population\"].apply(np.ceil).astype(int)\n",
    "df=calc_dependencies(df,Uses,years)"
   ]
  },
  {
   "cell_type": "markdown",
   "metadata": {},
   "source": [
    "### Present summary statistics"
   ]
  },
  {
   "cell_type": "code",
   "execution_count": 7,
   "metadata": {},
   "outputs": [
    {
     "name": "stdout",
     "output_type": "stream",
     "text": [
      "         Population  DomesticSelfSupp  DomesticSelfPop  DomesticTotalUse  \\\n",
      "count  2.256500e+04      21877.000000     2.186900e+04      21772.000000   \n",
      "mean   8.798422e+04          0.001505     1.339608e+04          0.012256   \n",
      "std    2.878891e+05          0.002868     2.516093e+04          0.047704   \n",
      "min    0.000000e+00          0.000000    -1.073000e+04          0.000000   \n",
      "25%    1.104100e+04          0.000194     1.720000e+03          0.001341   \n",
      "50%    2.458000e+04          0.000636     5.813000e+03          0.002959   \n",
      "75%    6.006000e+04          0.001645     1.520000e+04          0.007522   \n",
      "max    1.017029e+07          0.104749     1.010120e+06          2.236696   \n",
      "\n",
      "       DomesticPubDeliv  PublicSupplyPop  PublicSupplyUse  IndustrialSelfSupp  \\\n",
      "count      21866.000000     2.186900e+04     22565.000000        22565.000000   \n",
      "mean           0.010756     7.424694e+04         0.017391            0.007769   \n",
      "std            0.046343     2.769585e+05         0.069957            0.050666   \n",
      "min            0.000000     0.000000e+00         0.000000            0.000000   \n",
      "25%            0.000816     6.470000e+03         0.001175            0.000000   \n",
      "50%            0.002019     1.605500e+04         0.003180            0.000041   \n",
      "75%            0.005627     4.313000e+04         0.009388            0.001466   \n",
      "max            2.131947     1.013998e+07         2.571207            2.026514   \n",
      "\n",
      "       IndustrialTotalUse  IrrigationTotalUse  IrrigationSurfaceUse  \\\n",
      "count        21866.000000        22565.000000          22565.000000   \n",
      "mean             0.014408            0.055515              0.033284   \n",
      "std              0.062923            0.217183              0.157381   \n",
      "min              0.000000            0.000000              0.000000   \n",
      "25%              0.000263            0.000097              0.000000   \n",
      "50%              0.001341            0.000885              0.000207   \n",
      "75%              0.006706            0.010550              0.002157   \n",
      "max              2.048830            4.825221              3.787339   \n",
      "\n",
      "       IrrigationGroundWUse  LivestockTotalUse  \n",
      "count          22565.000000       21217.000000  \n",
      "mean               0.022231           0.001101  \n",
      "std                0.094066           0.007325  \n",
      "min                0.000000           0.000000  \n",
      "25%                0.000000           0.000166  \n",
      "50%                0.000221           0.000498  \n",
      "75%                0.003540           0.001120  \n",
      "max                2.268021           0.924547  \n"
     ]
    }
   ],
   "source": [
    "print(df.describe())"
   ]
  },
  {
   "cell_type": "markdown",
   "metadata": {},
   "source": [
    "Notice negative values for DomesticSelfSupplied.  The DomesticSelfSuppliedPopulation variable is calcualted as the Total Population of County  - minus - the population served by public supply.  Below are the counties where the public served population exceeded the population of the whole county, and the total excess population across all records.  The saved dataset forces these populations to zero."
   ]
  },
  {
   "cell_type": "code",
   "execution_count": 8,
   "metadata": {},
   "outputs": [
    {
     "name": "stdout",
     "output_type": "stream",
     "text": [
      "FIPS   Year\n",
      "27033  2010       -3.0\n",
      "27081  2010       -4.0\n",
      "27117  2010       -4.0\n",
      "27173  2010       -2.0\n",
      "40063  1995      -10.0\n",
      "42101  2010       -4.0\n",
      "51680  2000   -10730.0\n",
      "72013  2000      -10.0\n",
      "72041  2000      -10.0\n",
      "72067  2000      -10.0\n",
      "72109  2000      -10.0\n",
      "72153  2000      -10.0\n",
      "Name: DomesticSelfPop, dtype: float64\n",
      "Total:  10807.0\n"
     ]
    }
   ],
   "source": [
    "print(df.loc[df[\"DomesticSelfPop\"]<0,\"DomesticSelfPop\"])\n",
    "print(\"Total: \",(-1*df.loc[df['DomesticSelfPop']<0,\"DomesticSelfPop\"]).sum())"
   ]
  },
  {
   "cell_type": "code",
   "execution_count": 9,
   "metadata": {},
   "outputs": [
    {
     "name": "stdout",
     "output_type": "stream",
     "text": [
      "         Population  DomesticSelfSupp  DomesticSelfPop  DomesticTotalUse  \\\n",
      "count  2.256500e+04      21877.000000     2.186900e+04      21772.000000   \n",
      "mean   8.798422e+04          0.001505     1.339657e+04          0.012256   \n",
      "std    2.878891e+05          0.002868     2.516057e+04          0.047704   \n",
      "min    0.000000e+00          0.000000     0.000000e+00          0.000000   \n",
      "25%    1.104100e+04          0.000194     1.720000e+03          0.001341   \n",
      "50%    2.458000e+04          0.000636     5.813000e+03          0.002959   \n",
      "75%    6.006000e+04          0.001645     1.520000e+04          0.007522   \n",
      "max    1.017029e+07          0.104749     1.010120e+06          2.236696   \n",
      "\n",
      "       DomesticPubDeliv  PublicSupplyPop  PublicSupplyUse  IndustrialSelfSupp  \\\n",
      "count      21866.000000     2.186900e+04     22565.000000        22565.000000   \n",
      "mean           0.010756     7.424694e+04         0.017391            0.007769   \n",
      "std            0.046343     2.769585e+05         0.069957            0.050666   \n",
      "min            0.000000     0.000000e+00         0.000000            0.000000   \n",
      "25%            0.000816     6.470000e+03         0.001175            0.000000   \n",
      "50%            0.002019     1.605500e+04         0.003180            0.000041   \n",
      "75%            0.005627     4.313000e+04         0.009388            0.001466   \n",
      "max            2.131947     1.013998e+07         2.571207            2.026514   \n",
      "\n",
      "       IndustrialTotalUse  IrrigationTotalUse  IrrigationSurfaceUse  \\\n",
      "count        21866.000000        22565.000000          22565.000000   \n",
      "mean             0.014408            0.055515              0.033284   \n",
      "std              0.062923            0.217183              0.157381   \n",
      "min              0.000000            0.000000              0.000000   \n",
      "25%              0.000263            0.000097              0.000000   \n",
      "50%              0.001341            0.000885              0.000207   \n",
      "75%              0.006706            0.010550              0.002157   \n",
      "max              2.048830            4.825221              3.787339   \n",
      "\n",
      "       IrrigationGroundWUse  LivestockTotalUse  \n",
      "count          22565.000000       21217.000000  \n",
      "mean               0.022231           0.001101  \n",
      "std                0.094066           0.007325  \n",
      "min                0.000000           0.000000  \n",
      "25%                0.000000           0.000166  \n",
      "50%                0.000221           0.000498  \n",
      "75%                0.003540           0.001120  \n",
      "max                2.268021           0.924547  \n"
     ]
    }
   ],
   "source": [
    "df[df<0]=0.0\n",
    "print(df.describe())\n",
    "df.to_csv(output_file_name)"
   ]
  },
  {
   "cell_type": "markdown",
   "metadata": {},
   "source": [
    "#### Example of reading resulting summary table"
   ]
  },
  {
   "cell_type": "code",
   "execution_count": 10,
   "metadata": {},
   "outputs": [
    {
     "name": "stdout",
     "output_type": "stream",
     "text": [
      "         Population  DomesticSelfSupp  DomesticSelfPop  DomesticTotalUse  \\\n",
      "count  2.256500e+04      21877.000000     2.186900e+04      21772.000000   \n",
      "mean   8.798422e+04          0.001505     1.339657e+04          0.012256   \n",
      "std    2.878891e+05          0.002868     2.516057e+04          0.047704   \n",
      "min    0.000000e+00          0.000000     0.000000e+00          0.000000   \n",
      "25%    1.104100e+04          0.000194     1.720000e+03          0.001341   \n",
      "50%    2.458000e+04          0.000636     5.813000e+03          0.002959   \n",
      "75%    6.006000e+04          0.001645     1.520000e+04          0.007522   \n",
      "max    1.017029e+07          0.104749     1.010120e+06          2.236696   \n",
      "\n",
      "       DomesticPubDeliv  PublicSupplyPop  PublicSupplyUse  IndustrialSelfSupp  \\\n",
      "count      21866.000000     2.186900e+04     22565.000000        22565.000000   \n",
      "mean           0.010756     7.424694e+04         0.017391            0.007769   \n",
      "std            0.046343     2.769585e+05         0.069957            0.050666   \n",
      "min            0.000000     0.000000e+00         0.000000            0.000000   \n",
      "25%            0.000816     6.470000e+03         0.001175            0.000000   \n",
      "50%            0.002019     1.605500e+04         0.003180            0.000041   \n",
      "75%            0.005627     4.313000e+04         0.009388            0.001466   \n",
      "max            2.131947     1.013998e+07         2.571207            2.026514   \n",
      "\n",
      "       IndustrialTotalUse  IrrigationTotalUse  IrrigationSurfaceUse  \\\n",
      "count        21866.000000        22565.000000          22565.000000   \n",
      "mean             0.014408            0.055515              0.033284   \n",
      "std              0.062923            0.217183              0.157381   \n",
      "min              0.000000            0.000000              0.000000   \n",
      "25%              0.000263            0.000097              0.000000   \n",
      "50%              0.001341            0.000885              0.000207   \n",
      "75%              0.006706            0.010550              0.002157   \n",
      "max              2.048830            4.825221              3.787339   \n",
      "\n",
      "       IrrigationGroundWUse  LivestockTotalUse  \n",
      "count          22565.000000       21217.000000  \n",
      "mean               0.022231           0.001101  \n",
      "std                0.094066           0.007325  \n",
      "min                0.000000           0.000000  \n",
      "25%                0.000000           0.000166  \n",
      "50%                0.000221           0.000498  \n",
      "75%                0.003540           0.001120  \n",
      "max                2.268021           0.924547  \n",
      "MultiIndex([('01001', 1985),\n",
      "            ('01001', 1990),\n",
      "            ('01001', 1995),\n",
      "            ('01001', 2000),\n",
      "            ('01001', 2005),\n",
      "            ('01001', 2010),\n",
      "            ('01001', 2015),\n",
      "            ('01003', 1985),\n",
      "            ('01003', 1990),\n",
      "            ('01003', 1995),\n",
      "            ...\n",
      "            ('78020', 2000),\n",
      "            ('78020', 2005),\n",
      "            ('78020', 2010),\n",
      "            ('78020', 2015),\n",
      "            ('78030', 1985),\n",
      "            ('78030', 1990),\n",
      "            ('78030', 2000),\n",
      "            ('78030', 2005),\n",
      "            ('78030', 2010),\n",
      "            ('78030', 2015)],\n",
      "           names=['FIPS', 'Year'], length=22565)\n"
     ]
    }
   ],
   "source": [
    "df=pd.read_csv(output_file_name,dtype={'FIPS':str},index_col=\"Year\") \n",
    "# Pandas will force recognition of FIPS as int() if asked to create multi-index from read_csv, so ...\n",
    "df.set_index('FIPS',append=True,inplace=True)\n",
    "df=df.reorder_levels((1,0))\n",
    "print(df.describe())\n",
    "print(df.index)"
   ]
  },
  {
   "cell_type": "markdown",
   "metadata": {},
   "source": [
    "### Calculate derived quantities of interest"
   ]
  },
  {
   "cell_type": "code",
   "execution_count": 11,
   "metadata": {},
   "outputs": [
    {
     "name": "stdout",
     "output_type": "stream",
     "text": [
      "Index(['Population', 'DomesticSelfSupp', 'DomesticSelfPop', 'DomesticTotalUse',\n",
      "       'DomesticPubDeliv', 'PublicSupplyPop', 'PublicSupplyUse',\n",
      "       'IndustrialSelfSupp', 'IndustrialTotalUse', 'IrrigationTotalUse',\n",
      "       'IrrigationSurfaceUse', 'IrrigationGroundWUse', 'LivestockTotalUse',\n",
      "       'UrbanUse', 'AgUse', 'Domest_cap', 'Indust_cap', 'SW_ratio'],\n",
      "      dtype='object')\n"
     ]
    }
   ],
   "source": [
    "df[\"UrbanUse\"]=df[\"DomesticTotalUse\"]+df[\"IndustrialTotalUse\"] # km3/year\n",
    "df[\"AgUse\"]=df[\"IrrigationTotalUse\"]+df[\"LivestockTotalUse\"] # km3/year\n",
    "df[\"Domest_cap\"]=1e9*df[\"DomesticTotalUse\"]/365.256/df[\"Population\"] # m3/day\n",
    "df[\"Indust_cap\"]=1e9*df[\"IndustrialTotalUse\"]/365.256/df[\"Population\"] # m3/day\n",
    "df[\"SW_ratio\"]=df[\"IrrigationSurfaceUse\"] / df[\"IrrigationTotalUse\"] # ratio\n",
    "print( df.columns)"
   ]
  },
  {
   "cell_type": "markdown",
   "metadata": {},
   "source": [
    "##  Create  GeoJSON"
   ]
  },
  {
   "cell_type": "markdown",
   "metadata": {},
   "source": [
    "If fiona is not installed (which requires install of OGR from OSGEO) the remainder of this notebook is not for you."
   ]
  },
  {
   "cell_type": "code",
   "execution_count": 12,
   "metadata": {},
   "outputs": [],
   "source": [
    "import os\n",
    "import fiona"
   ]
  },
  {
   "cell_type": "code",
   "execution_count": 13,
   "metadata": {},
   "outputs": [],
   "source": [
    "def create_data_json( df, year ):\n",
    "    lyr_name=\"usgs_county_water_{}\".format(year)\n",
    "    out_name=fldr+lyr_name+\".json\"\n",
    "    if os.path.exists(out_name):\n",
    "        # If you want the file re-written, mv it.\n",
    "        return\n",
    "    with fiona.open(county_fname,'r') as inShapefile:\n",
    "        source_crs=inShapefile.crs\n",
    "        schema=inShapefile.schema\n",
    "        schema[\"geometry\"]=\"MultiPolygon\"\n",
    "        new_attrs=OrderedDict([(x,\"float\") for x in df.columns])\n",
    "        schema[\"properties\"].update(new_attrs)\n",
    "        out_driver='GeoJSON'\n",
    "        with fiona.open(out_name,'w',driver=out_driver,crs=source_crs,schema=schema) as outData:\n",
    "            new_records=[]\n",
    "            for record in inShapefile.values():\n",
    "                try:\n",
    "                    for col in df.columns:\n",
    "                        record[\"properties\"][col]=df.loc[(record[\"properties\"][\"GEOID\"],year),col]\n",
    "                    if record[\"geometry\"][\"type\"] == \"Polygon\":\n",
    "                        record[\"geometry\"][\"type\"] = \"MultiPolygon\"\n",
    "                        record[\"geometry\"][\"coordinates\"]=[record[\"geometry\"][\"coordinates\"]]\n",
    "                    new_records.append(record)\n",
    "                except KeyError:\n",
    "                    print(record[\"properties\"][\"GEOID\"],\" not in USGS statistics.\")\n",
    "                    continue\n",
    "            outData.writerecords(new_records)"
   ]
  },
  {
   "cell_type": "code",
   "execution_count": 14,
   "metadata": {},
   "outputs": [],
   "source": [
    "for year in range(1985,2016,5):\n",
    "    create_data_json(df,year)"
   ]
  },
  {
   "cell_type": "markdown",
   "metadata": {},
   "source": [
    "### Plot example data"
   ]
  },
  {
   "cell_type": "markdown",
   "metadata": {},
   "source": [
    "Plot the fraction of irrigation water derived from surface water sources (as opposed to groundwater) for CONUS.\n",
    "\n",
    "The fraction of surface water used for irrigation can be quite variable through time for each county.  For instance the difference between the ratio for each county can be $\\pm$100%, and has a fairly high standard deviation (see below)."
   ]
  },
  {
   "cell_type": "code",
   "execution_count": 15,
   "metadata": {},
   "outputs": [
    {
     "name": "stdout",
     "output_type": "stream",
     "text": [
      "count    17723.000000\n",
      "mean         0.000202\n",
      "std          0.441333\n",
      "min         -1.000000\n",
      "25%         -0.186488\n",
      "50%          0.000000\n",
      "75%          0.189979\n",
      "max          1.000000\n",
      "Name: SW_ratio, dtype: float64\n",
      "count    2897.000000\n",
      "mean        0.202664\n",
      "std         0.170059\n",
      "min         0.000000\n",
      "25%         0.068402\n",
      "50%         0.166760\n",
      "75%         0.303292\n",
      "max         1.272792\n",
      "Name: SW_ratio, dtype: float64\n"
     ]
    }
   ],
   "source": [
    "print(df[\"SW_ratio\"].groupby(level=1).diff(1).describe()) # \n",
    "print(df[\"SW_ratio\"].groupby(level=1).diff(1).std(level=0).describe())"
   ]
  },
  {
   "cell_type": "markdown",
   "metadata": {},
   "source": [
    "While a reasonable hypothesis is that this temporal variability can be explained by drought conditions (irrigators switch to greater groundwater withdrawals when surface water is unavailable), we do not test this, but instead assume that over the climatological record between 1985 and 2015, the mean ratio of surface to total irrigation water may be a more appropriate representation of typical county-wide irrigation water sourcing. "
   ]
  },
  {
   "cell_type": "code",
   "execution_count": 16,
   "metadata": {},
   "outputs": [],
   "source": [
    "sw_ratio = df[\"SW_ratio\"].mean(level=0)"
   ]
  },
  {
   "cell_type": "code",
   "execution_count": 17,
   "metadata": {},
   "outputs": [],
   "source": [
    "import matplotlib.pyplot as plt\n",
    "import matplotlib as mpl\n",
    "import cartopy\n",
    "import shapely.geometry as geometry\n",
    "# Please note: shapely must be installed from source and proper integration with GEOS ensured.\n",
    "#              see https://pypi.org/project/Shapely/\n",
    "%matplotlib inline"
   ]
  },
  {
   "cell_type": "code",
   "execution_count": 18,
   "metadata": {},
   "outputs": [],
   "source": [
    "year = 2015\n",
    "county_geoids = [(geometry.MultiPolygon(geometry.shape(pol['geometry'])),pol['properties']['GEOID']) for pol in fiona.open(fldr+\"usgs_county_water_{}.json\".format(year))]"
   ]
  },
  {
   "cell_type": "code",
   "execution_count": 19,
   "metadata": {},
   "outputs": [
    {
     "data": {
      "image/png": "[encoded data removed]",
      "text/plain": [
       "<Figure size 468x288 with 2 Axes>"
      ]
     },
     "metadata": {
      "needs_background": "light"
     },
     "output_type": "display_data"
    }
   ],
   "source": [
    "cmap=plt.get_cmap('magma')\n",
    "fig = plt.figure(figsize=(6.5,4))\n",
    "globe = cartopy.crs.Globe(semimajor_axis=6371000.)\n",
    "proj = cartopy.crs.LambertConformal(standard_parallels=[25.0], globe=globe)\n",
    "\n",
    "ax = fig.add_subplot(1,1,1,projection=proj)\n",
    "ax.set_extent((-125., -70., 21., 54.))  # Conterminous USA\n",
    "year = 2015\n",
    "\n",
    "for county_geoid in county_geoids:\n",
    "    color = cmap(sw_ratio.loc[county_geoid[1]])\n",
    "    ax.add_geometries(county_geoid[0],cartopy.crs.PlateCarree(),facecolor=color,edgecolor='k',linewidth=0.05)\n",
    "cax = fig.add_axes([0.3, 0.83, 0.4, 0.02])\n",
    "norm = mpl.colors.Normalize(vmin=0, vmax=1)\n",
    "cb = mpl.colorbar.ColorbarBase(cax, cmap=cmap, norm=norm, orientation='horizontal')\n",
    "cb.set_label('Fraction of Surface sourced Irrigation water', fontsize=10)\n",
    "cb.set_ticks(np.arange(0, 1.01, 0.25))"
   ]
  },
  {
   "cell_type": "code",
   "execution_count": null,
   "metadata": {},
   "outputs": [],
   "source": []
  }
 ],
 "metadata": {
  "kernelspec": {
   "display_name": "Python 3",
   "language": "python",
   "name": "python3"
  },
  "language_info": {
   "codemirror_mode": {
    "name": "ipython",
    "version": 3
   },
   "file_extension": ".py",
   "mimetype": "text/x-python",
   "name": "python",
   "nbconvert_exporter": "python",
   "pygments_lexer": "ipython3",
   "version": "3.6.9"
  }
 },
 "nbformat": 4,
 "nbformat_minor": 1
}
